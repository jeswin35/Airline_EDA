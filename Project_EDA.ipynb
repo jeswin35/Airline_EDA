{
 "cells": [
  {
   "cell_type": "markdown",
   "metadata": {},
   "source": [
    "## Importing the required libraries for EDA"
   ]
  },
  {
   "cell_type": "code",
   "execution_count": 1,
   "metadata": {},
   "outputs": [],
   "source": [
    "# Loading libraries required for Exploratory Data Analysis\n",
    "\n",
    "import pandas as pd\n",
    "import numpy as np\n",
    "import matplotlib.pyplot as plt\n",
    "import seaborn as sns"
   ]
  },
  {
   "cell_type": "markdown",
   "metadata": {},
   "source": [
    "##  Loading the data into the data frame."
   ]
  },
  {
   "cell_type": "code",
   "execution_count": 2,
   "metadata": {},
   "outputs": [],
   "source": [
    "data=pd.read_csv(r\"C:\\CodesNew\\DataForProject\\Airline_Delay_Cause.csv\")\n",
    "df=data"
   ]
  },
  {
   "cell_type": "markdown",
   "metadata": {},
   "source": [
    "## To display top 5 rows"
   ]
  },
  {
   "cell_type": "code",
   "execution_count": null,
   "metadata": {},
   "outputs": [],
   "source": [
    "df.head(5)"
   ]
  },
  {
   "cell_type": "markdown",
   "metadata": {},
   "source": [
    "## To display bottom 5 rows"
   ]
  },
  {
   "cell_type": "code",
   "execution_count": null,
   "metadata": {},
   "outputs": [],
   "source": [
    "df.tail(5)"
   ]
  },
  {
   "cell_type": "markdown",
   "metadata": {},
   "source": [
    "# Dropping rows with null values"
   ]
  },
  {
   "cell_type": "code",
   "execution_count": 3,
   "metadata": {},
   "outputs": [
    {
     "data": {
      "text/plain": [
       "(140241, 21)"
      ]
     },
     "execution_count": 3,
     "metadata": {},
     "output_type": "execute_result"
    }
   ],
   "source": [
    "df= df.dropna()\n",
    "# Shape of DataFrame before dropping\n",
    "data.shape\n",
    "# Shape of DataFrame after dropping\n",
    "df.shape"
   ]
  },
  {
   "cell_type": "markdown",
   "metadata": {},
   "source": [
    "# Replacing column names"
   ]
  },
  {
   "cell_type": "code",
   "execution_count": 4,
   "metadata": {},
   "outputs": [
    {
     "name": "stderr",
     "output_type": "stream",
     "text": [
      "C:\\Users\\jeswi\\AppData\\Local\\Temp\\ipykernel_24536\\3494177894.py:3: SettingWithCopyWarning: \n",
      "A value is trying to be set on a copy of a slice from a DataFrame\n",
      "\n",
      "See the caveats in the documentation: https://pandas.pydata.org/pandas-docs/stable/user_guide/indexing.html#returning-a-view-versus-a-copy\n",
      "  df.rename(columns={i:j.capitalize()},inplace=True)\n",
      "C:\\Users\\jeswi\\AppData\\Local\\Temp\\ipykernel_24536\\3494177894.py:3: SettingWithCopyWarning: \n",
      "A value is trying to be set on a copy of a slice from a DataFrame\n",
      "\n",
      "See the caveats in the documentation: https://pandas.pydata.org/pandas-docs/stable/user_guide/indexing.html#returning-a-view-versus-a-copy\n",
      "  df.rename(columns={i:j.capitalize()},inplace=True)\n",
      "C:\\Users\\jeswi\\AppData\\Local\\Temp\\ipykernel_24536\\3494177894.py:3: SettingWithCopyWarning: \n",
      "A value is trying to be set on a copy of a slice from a DataFrame\n",
      "\n",
      "See the caveats in the documentation: https://pandas.pydata.org/pandas-docs/stable/user_guide/indexing.html#returning-a-view-versus-a-copy\n",
      "  df.rename(columns={i:j.capitalize()},inplace=True)\n",
      "C:\\Users\\jeswi\\AppData\\Local\\Temp\\ipykernel_24536\\3494177894.py:3: SettingWithCopyWarning: \n",
      "A value is trying to be set on a copy of a slice from a DataFrame\n",
      "\n",
      "See the caveats in the documentation: https://pandas.pydata.org/pandas-docs/stable/user_guide/indexing.html#returning-a-view-versus-a-copy\n",
      "  df.rename(columns={i:j.capitalize()},inplace=True)\n",
      "C:\\Users\\jeswi\\AppData\\Local\\Temp\\ipykernel_24536\\3494177894.py:3: SettingWithCopyWarning: \n",
      "A value is trying to be set on a copy of a slice from a DataFrame\n",
      "\n",
      "See the caveats in the documentation: https://pandas.pydata.org/pandas-docs/stable/user_guide/indexing.html#returning-a-view-versus-a-copy\n",
      "  df.rename(columns={i:j.capitalize()},inplace=True)\n",
      "C:\\Users\\jeswi\\AppData\\Local\\Temp\\ipykernel_24536\\3494177894.py:3: SettingWithCopyWarning: \n",
      "A value is trying to be set on a copy of a slice from a DataFrame\n",
      "\n",
      "See the caveats in the documentation: https://pandas.pydata.org/pandas-docs/stable/user_guide/indexing.html#returning-a-view-versus-a-copy\n",
      "  df.rename(columns={i:j.capitalize()},inplace=True)\n",
      "C:\\Users\\jeswi\\AppData\\Local\\Temp\\ipykernel_24536\\3494177894.py:3: SettingWithCopyWarning: \n",
      "A value is trying to be set on a copy of a slice from a DataFrame\n",
      "\n",
      "See the caveats in the documentation: https://pandas.pydata.org/pandas-docs/stable/user_guide/indexing.html#returning-a-view-versus-a-copy\n",
      "  df.rename(columns={i:j.capitalize()},inplace=True)\n",
      "C:\\Users\\jeswi\\AppData\\Local\\Temp\\ipykernel_24536\\3494177894.py:3: SettingWithCopyWarning: \n",
      "A value is trying to be set on a copy of a slice from a DataFrame\n",
      "\n",
      "See the caveats in the documentation: https://pandas.pydata.org/pandas-docs/stable/user_guide/indexing.html#returning-a-view-versus-a-copy\n",
      "  df.rename(columns={i:j.capitalize()},inplace=True)\n",
      "C:\\Users\\jeswi\\AppData\\Local\\Temp\\ipykernel_24536\\3494177894.py:3: SettingWithCopyWarning: \n",
      "A value is trying to be set on a copy of a slice from a DataFrame\n",
      "\n",
      "See the caveats in the documentation: https://pandas.pydata.org/pandas-docs/stable/user_guide/indexing.html#returning-a-view-versus-a-copy\n",
      "  df.rename(columns={i:j.capitalize()},inplace=True)\n",
      "C:\\Users\\jeswi\\AppData\\Local\\Temp\\ipykernel_24536\\3494177894.py:3: SettingWithCopyWarning: \n",
      "A value is trying to be set on a copy of a slice from a DataFrame\n",
      "\n",
      "See the caveats in the documentation: https://pandas.pydata.org/pandas-docs/stable/user_guide/indexing.html#returning-a-view-versus-a-copy\n",
      "  df.rename(columns={i:j.capitalize()},inplace=True)\n",
      "C:\\Users\\jeswi\\AppData\\Local\\Temp\\ipykernel_24536\\3494177894.py:3: SettingWithCopyWarning: \n",
      "A value is trying to be set on a copy of a slice from a DataFrame\n",
      "\n",
      "See the caveats in the documentation: https://pandas.pydata.org/pandas-docs/stable/user_guide/indexing.html#returning-a-view-versus-a-copy\n",
      "  df.rename(columns={i:j.capitalize()},inplace=True)\n",
      "C:\\Users\\jeswi\\AppData\\Local\\Temp\\ipykernel_24536\\3494177894.py:3: SettingWithCopyWarning: \n",
      "A value is trying to be set on a copy of a slice from a DataFrame\n",
      "\n",
      "See the caveats in the documentation: https://pandas.pydata.org/pandas-docs/stable/user_guide/indexing.html#returning-a-view-versus-a-copy\n",
      "  df.rename(columns={i:j.capitalize()},inplace=True)\n",
      "C:\\Users\\jeswi\\AppData\\Local\\Temp\\ipykernel_24536\\3494177894.py:3: SettingWithCopyWarning: \n",
      "A value is trying to be set on a copy of a slice from a DataFrame\n",
      "\n",
      "See the caveats in the documentation: https://pandas.pydata.org/pandas-docs/stable/user_guide/indexing.html#returning-a-view-versus-a-copy\n",
      "  df.rename(columns={i:j.capitalize()},inplace=True)\n",
      "C:\\Users\\jeswi\\AppData\\Local\\Temp\\ipykernel_24536\\3494177894.py:3: SettingWithCopyWarning: \n",
      "A value is trying to be set on a copy of a slice from a DataFrame\n",
      "\n",
      "See the caveats in the documentation: https://pandas.pydata.org/pandas-docs/stable/user_guide/indexing.html#returning-a-view-versus-a-copy\n",
      "  df.rename(columns={i:j.capitalize()},inplace=True)\n",
      "C:\\Users\\jeswi\\AppData\\Local\\Temp\\ipykernel_24536\\3494177894.py:3: SettingWithCopyWarning: \n",
      "A value is trying to be set on a copy of a slice from a DataFrame\n",
      "\n",
      "See the caveats in the documentation: https://pandas.pydata.org/pandas-docs/stable/user_guide/indexing.html#returning-a-view-versus-a-copy\n",
      "  df.rename(columns={i:j.capitalize()},inplace=True)\n",
      "C:\\Users\\jeswi\\AppData\\Local\\Temp\\ipykernel_24536\\3494177894.py:3: SettingWithCopyWarning: \n",
      "A value is trying to be set on a copy of a slice from a DataFrame\n",
      "\n",
      "See the caveats in the documentation: https://pandas.pydata.org/pandas-docs/stable/user_guide/indexing.html#returning-a-view-versus-a-copy\n",
      "  df.rename(columns={i:j.capitalize()},inplace=True)\n",
      "C:\\Users\\jeswi\\AppData\\Local\\Temp\\ipykernel_24536\\3494177894.py:3: SettingWithCopyWarning: \n",
      "A value is trying to be set on a copy of a slice from a DataFrame\n",
      "\n",
      "See the caveats in the documentation: https://pandas.pydata.org/pandas-docs/stable/user_guide/indexing.html#returning-a-view-versus-a-copy\n",
      "  df.rename(columns={i:j.capitalize()},inplace=True)\n",
      "C:\\Users\\jeswi\\AppData\\Local\\Temp\\ipykernel_24536\\3494177894.py:3: SettingWithCopyWarning: \n",
      "A value is trying to be set on a copy of a slice from a DataFrame\n",
      "\n",
      "See the caveats in the documentation: https://pandas.pydata.org/pandas-docs/stable/user_guide/indexing.html#returning-a-view-versus-a-copy\n",
      "  df.rename(columns={i:j.capitalize()},inplace=True)\n",
      "C:\\Users\\jeswi\\AppData\\Local\\Temp\\ipykernel_24536\\3494177894.py:3: SettingWithCopyWarning: \n",
      "A value is trying to be set on a copy of a slice from a DataFrame\n",
      "\n",
      "See the caveats in the documentation: https://pandas.pydata.org/pandas-docs/stable/user_guide/indexing.html#returning-a-view-versus-a-copy\n",
      "  df.rename(columns={i:j.capitalize()},inplace=True)\n",
      "C:\\Users\\jeswi\\AppData\\Local\\Temp\\ipykernel_24536\\3494177894.py:3: SettingWithCopyWarning: \n",
      "A value is trying to be set on a copy of a slice from a DataFrame\n",
      "\n",
      "See the caveats in the documentation: https://pandas.pydata.org/pandas-docs/stable/user_guide/indexing.html#returning-a-view-versus-a-copy\n",
      "  df.rename(columns={i:j.capitalize()},inplace=True)\n",
      "C:\\Users\\jeswi\\AppData\\Local\\Temp\\ipykernel_24536\\3494177894.py:3: SettingWithCopyWarning: \n",
      "A value is trying to be set on a copy of a slice from a DataFrame\n",
      "\n",
      "See the caveats in the documentation: https://pandas.pydata.org/pandas-docs/stable/user_guide/indexing.html#returning-a-view-versus-a-copy\n",
      "  df.rename(columns={i:j.capitalize()},inplace=True)\n"
     ]
    }
   ],
   "source": [
    "for i in df:\n",
    "    j=i.replace(' ','_')\n",
    "    df.rename(columns={i:j.capitalize()},inplace=True)"
   ]
  },
  {
   "cell_type": "markdown",
   "metadata": {},
   "source": [
    "## Checking the types of data"
   ]
  },
  {
   "cell_type": "code",
   "execution_count": 5,
   "metadata": {},
   "outputs": [
    {
     "data": {
      "text/plain": [
       "Year                     int64\n",
       "Month                    int64\n",
       "Carrier                 object\n",
       "Carrier_name            object\n",
       "Airport                 object\n",
       "Airport_name            object\n",
       "Arr_flights            float64\n",
       "Arr_del15              float64\n",
       "Carrier_ct             float64\n",
       "Weather_ct             float64\n",
       "Nas_ct                 float64\n",
       "Security_ct            float64\n",
       "Late_aircraft_ct       float64\n",
       "Arr_cancelled          float64\n",
       "Arr_diverted           float64\n",
       "Arr_delay              float64\n",
       "Carrier_delay          float64\n",
       "Weather_delay          float64\n",
       "Nas_delay              float64\n",
       "Security_delay         float64\n",
       "Late_aircraft_delay    float64\n",
       "dtype: object"
      ]
     },
     "execution_count": 5,
     "metadata": {},
     "output_type": "execute_result"
    }
   ],
   "source": [
    "df.dtypes"
   ]
  },
  {
   "cell_type": "markdown",
   "metadata": {},
   "source": [
    "## Checking for duplicate values"
   ]
  },
  {
   "cell_type": "code",
   "execution_count": 6,
   "metadata": {},
   "outputs": [
    {
     "data": {
      "text/plain": [
       "(0, 21)"
      ]
     },
     "execution_count": 6,
     "metadata": {},
     "output_type": "execute_result"
    }
   ],
   "source": [
    "df[df.duplicated()].shape"
   ]
  },
  {
   "cell_type": "markdown",
   "metadata": {},
   "source": [
    "## Checking for outliers"
   ]
  },
  {
   "cell_type": "code",
   "execution_count": 7,
   "metadata": {},
   "outputs": [
    {
     "name": "stderr",
     "output_type": "stream",
     "text": [
      "C:\\Users\\jeswi\\AppData\\Local\\Temp\\ipykernel_24536\\4172887209.py:3: FutureWarning: The default value of numeric_only in DataFrame.quantile is deprecated. In a future version, it will default to False. Select only valid columns or specify the value of numeric_only to silence this warning.\n",
      "  Q1 = df.quantile(0.25)\n",
      "C:\\Users\\jeswi\\AppData\\Local\\Temp\\ipykernel_24536\\4172887209.py:4: FutureWarning: The default value of numeric_only in DataFrame.quantile is deprecated. In a future version, it will default to False. Select only valid columns or specify the value of numeric_only to silence this warning.\n",
      "  Q3 = df.quantile(0.75)\n",
      "C:\\Users\\jeswi\\AppData\\Local\\Temp\\ipykernel_24536\\4172887209.py:8: FutureWarning: Automatic reindexing on DataFrame vs Series comparisons is deprecated and will raise ValueError in a future version. Do `left, right = left.align(right, axis=1, copy=False)` before e.g. `left == right`\n",
      "  outliers = (df < (Q1 - 1.5 * IQR)) | (df > (Q3 + 1.5 * IQR))\n"
     ]
    },
    {
     "name": "stdout",
     "output_type": "stream",
     "text": [
      "Number of outliers in each column:\n",
      "Airport                    0\n",
      "Airport_name               0\n",
      "Arr_cancelled          16285\n",
      "Arr_del15              17851\n",
      "Arr_delay              17501\n",
      "Arr_diverted            9646\n",
      "Arr_flights            18173\n",
      "Carrier                    0\n",
      "Carrier_ct             16788\n",
      "Carrier_delay          16283\n",
      "Carrier_name               0\n",
      "Late_aircraft_ct       17737\n",
      "Late_aircraft_delay    17719\n",
      "Month                      0\n",
      "Nas_ct                 17961\n",
      "Nas_delay              18544\n",
      "Security_ct            17374\n",
      "Security_delay         17384\n",
      "Weather_ct             14845\n",
      "Weather_delay          18547\n",
      "Year                       0\n",
      "dtype: int64\n"
     ]
    }
   ],
   "source": [
    "# DO NOT RUN THIS MORE THAN ONE TIME\n",
    "# Calculate the interquartile range (IQR)\n",
    "Q1 = df.quantile(0.25)\n",
    "Q3 = df.quantile(0.75)\n",
    "IQR = Q3 - Q1\n",
    "\n",
    "# Identify outliers using the IQR method\n",
    "outliers = (df < (Q1 - 1.5 * IQR)) | (df > (Q3 + 1.5 * IQR))\n",
    "\n",
    "# Count the number of outliers in each column\n",
    "outliers_count = outliers.sum()\n",
    "\n",
    "# Print the number of outliers in each column\n",
    "print(\"Number of outliers in each column:\")\n",
    "print(outliers_count)\n"
   ]
  },
  {
   "cell_type": "markdown",
   "metadata": {},
   "source": [
    "## Removing outliers"
   ]
  },
  {
   "cell_type": "code",
   "execution_count": 8,
   "metadata": {},
   "outputs": [
    {
     "name": "stderr",
     "output_type": "stream",
     "text": [
      "C:\\Users\\jeswi\\AppData\\Local\\Temp\\ipykernel_24536\\923123659.py:1: FutureWarning: Automatic reindexing on DataFrame vs Series comparisons is deprecated and will raise ValueError in a future version. Do `left, right = left.align(right, axis=1, copy=False)` before e.g. `left == right`\n",
      "  df = df[~((df < (Q1 - 1.5 * IQR)) | (df > (Q3 + 1.5 * IQR))).any(axis=1)]\n"
     ]
    }
   ],
   "source": [
    "df = df[~((df < (Q1 - 1.5 * IQR)) | (df > (Q3 + 1.5 * IQR))).any(axis=1)]"
   ]
  },
  {
   "cell_type": "code",
   "execution_count": 9,
   "metadata": {},
   "outputs": [
    {
     "data": {
      "text/plain": [
       "(95326, 21)"
      ]
     },
     "execution_count": 9,
     "metadata": {},
     "output_type": "execute_result"
    }
   ],
   "source": [
    "df.shape"
   ]
  },
  {
   "cell_type": "markdown",
   "metadata": {},
   "source": [
    "## Converting DataFrame to String"
   ]
  },
  {
   "cell_type": "code",
   "execution_count": null,
   "metadata": {},
   "outputs": [],
   "source": [
    "String_Data=df.to_string()\n",
    "print(String_Data)"
   ]
  },
  {
   "cell_type": "markdown",
   "metadata": {},
   "source": [
    "## Heat Map"
   ]
  },
  {
   "cell_type": "code",
   "execution_count": null,
   "metadata": {},
   "outputs": [],
   "source": [
    "plt.figure(figsize=(12,6))\n",
    "Heat= df.corr()\n",
    "sns.heatmap(Heat,cmap=\"BrBG\",annot=True)"
   ]
  },
  {
   "cell_type": "markdown",
   "metadata": {},
   "source": [
    "## What is the distribution of delays across different years"
   ]
  },
  {
   "cell_type": "code",
   "execution_count": null,
   "metadata": {},
   "outputs": [],
   "source": [
    "# Extract the \"year\" column\n",
    "delay_years = df[\"Year\"]\n",
    "\n",
    "# Count the frequency of delays for each year\n",
    "delay_years_counts = delay_years.value_counts().sort_index()\n",
    "\n",
    "# Print the distribution of delays across different years\n",
    "print(\"Distribution of Delays Across Different Years:\")\n",
    "print(delay_years_counts)\n",
    "\n",
    "# Visualize the distribution of delays across different years (optional)\n",
    "plt.figure(figsize=(10, 6))\n",
    "delay_years_counts.plot(kind='bar', color='skyblue')\n",
    "plt.title(\"Distribution of Delays Across Different Years\")\n",
    "plt.xlabel(\"Year\")\n",
    "plt.ylabel(\"Frequency\")\n",
    "plt.xticks(rotation=45)\n",
    "plt.grid(axis='y')\n",
    "plt.tight_layout()\n",
    "plt.show()\n"
   ]
  },
  {
   "cell_type": "markdown",
   "metadata": {},
   "source": [
    "## How do delays vary throughout the months of the year?"
   ]
  },
  {
   "cell_type": "code",
   "execution_count": null,
   "metadata": {},
   "outputs": [],
   "source": [
    "# Extract the \"month\" column\n",
    "delay_months = df[\"Month\"]\n",
    "\n",
    "# Group the data by month and calculate the total number of delays for each month\n",
    "delay_months_counts = delay_months.value_counts().sort_index()\n",
    "\n",
    "# Print the variation of delays throughout the months\n",
    "print(\"Variation of Delays Throughout the Months:\")\n",
    "print(delay_months_counts)\n",
    "\n",
    "# Visualize the variation of delays throughout the months (optional)\n",
    "plt.figure(figsize=(8, 4))\n",
    "delay_months_counts.plot(kind='line', marker='o', color='skyblue')\n",
    "plt.title(\"Variation of Delays Throughout the Months\")\n",
    "plt.xlabel(\"Month\")\n",
    "plt.ylabel(\"Number of Delays\")\n",
    "plt.xticks(range(1, 13))\n",
    "plt.grid(True)\n",
    "plt.tight_layout()\n",
    "plt.show()\n"
   ]
  },
  {
   "cell_type": "markdown",
   "metadata": {},
   "source": [
    "## Which carriers have the highest number of flights in the dataset?"
   ]
  },
  {
   "cell_type": "code",
   "execution_count": null,
   "metadata": {},
   "outputs": [],
   "source": [
    "# Extract the \"carrier\" column\n",
    "Carrier_Counts = df[\"Carrier\"].value_counts()\n",
    "\n",
    "# Print the carriers with the highest number of flights\n",
    "print(\"Carriers with the Highest Number of Flights:\")\n",
    "print(Carrier_Counts.head(10))\n",
    "\n",
    "# Visualize the distribution of carriers (optional)\n",
    "plt.figure(figsize=(8, 4))\n",
    "Carrier_Counts.head(10).plot(kind='bar', color='skyblue')\n",
    "plt.title(\"Carriers with the Highest Number of Flights\")\n",
    "plt.xlabel(\"Carrier\")\n",
    "plt.ylabel(\"Number of Flights\")\n",
    "plt.xticks(rotation=45)\n",
    "plt.grid(axis='y')\n",
    "plt.tight_layout()\n",
    "plt.show()\n"
   ]
  },
  {
   "cell_type": "markdown",
   "metadata": {},
   "source": [
    "## Which are the top carriers by the number of delayed flights"
   ]
  },
  {
   "cell_type": "code",
   "execution_count": null,
   "metadata": {},
   "outputs": [],
   "source": [
    "\n",
    "# The meaning of \"arr del 15\" in flight data refers to an arrival delay of 15 minutes.\n",
    "\n",
    "# Filter the dataset to include only delayed flights\n",
    "delayed_flights = df[df[\"Arr_del15\"] == 1]\n",
    "\n",
    "# Extract the \"carrier\" column from the filtered dataset\n",
    "delayed_carriers = delayed_flights[\"Carrier\"]\n",
    "\n",
    "# Count the frequency of each carrier among delayed flights\n",
    "delayed_carrier_counts = delayed_carriers.value_counts()\n",
    "\n",
    "# Print the top carriers by the number of delayed flights\n",
    "print(\"Top Carriers by the Number of Delayed Flights:\")\n",
    "print(delayed_carrier_counts.head(10))\n",
    "\n",
    "# Visualize the distribution of carriers with delayed flights (optional)\n",
    "plt.figure(figsize=(8, 4))\n",
    "delayed_carrier_counts.head(10).plot(kind='bar', color='skyblue')\n",
    "plt.title(\"Top Carriers by the Number of Delayed Flights\")\n",
    "plt.xlabel(\"Carrier\")\n",
    "plt.ylabel(\"Number of Delayed Flights\")\n",
    "plt.xticks(rotation=45)\n",
    "plt.grid(axis='y')\n",
    "plt.tight_layout()\n",
    "plt.show()\n",
    "\n"
   ]
  },
  {
   "cell_type": "markdown",
   "metadata": {},
   "source": [
    "##  What are the main reasons for flight delays (e.g., carrier, weather, NAS)\n"
   ]
  },
  {
   "cell_type": "code",
   "execution_count": null,
   "metadata": {},
   "outputs": [],
   "source": [
    "# Calculate the total count of each delay cause\n",
    "delay_causes = df[[\"Carrier_ct\", \"Weather_ct\", \"Nas_ct\", \"Security_ct\", \"Late_aircraft_ct\"]].sum()\n",
    "\n",
    "# Find the delay cause with the highest total count\n",
    "main_delay_cause = delay_causes.idxmax()\n",
    "main_delay_cause_count = delay_causes.max()\n",
    "\n",
    "# Print the main reason for flight delays\n",
    "print(f\"The main reason for flight delays is {main_delay_cause} with a total count of {main_delay_cause_count}.\")\n",
    "\n",
    "# Visualize the distribution of delay causes (optional)\n",
    "plt.figure(figsize=(8, 4))\n",
    "delay_causes.plot(kind='bar', color='skyblue')\n",
    "plt.title(\"Distribution of Flight Delay Causes\")\n",
    "plt.xlabel(\"Delay Cause\")\n",
    "plt.ylabel(\"Total Count\")\n",
    "plt.xticks(rotation=45)\n",
    "plt.grid(axis='y')\n",
    "plt.tight_layout()\n",
    "plt.show()\n"
   ]
  },
  {
   "cell_type": "markdown",
   "metadata": {},
   "source": [
    "## To find the correlation between the number of flights and the number of delays for each carrier.\n",
    "#### Correlation coefficient between number of flights and number of delays for each carrier: 0.9836354160345716"
   ]
  },
  {
   "cell_type": "code",
   "execution_count": null,
   "metadata": {},
   "outputs": [],
   "source": [
    "\n",
    "# Group the data by the \"carrier\" column and calculate total flights and delays for each carrier\n",
    "carrier_grouped = df.groupby(\"Carrier\")[[\"Arr_flights\", \"Arr_del15\"]].sum()\n",
    "\n",
    "# Calculate the correlation coefficient between the number of flights and the number of delays for each carrier\n",
    "correlation_coefficient = carrier_grouped[\"Arr_flights\"].corr(carrier_grouped[\"Arr_del15\"])\n",
    "\n",
    "# Print the correlation coefficient\n",
    "print(\"Correlation coefficient between number of flights and number of delays for each carrier:\")\n",
    "print(correlation_coefficient)\n",
    "\n",
    "# Visualize the relationship between number of flights and delays for each carrier (optional)\n",
    "plt.figure(figsize=(8, 4))\n",
    "plt.scatter(carrier_grouped[\"Arr_flights\"], carrier_grouped[\"Arr_del15\"], color='skyblue')\n",
    "plt.title(\"Number of Flights vs. Number of Delays for Each Carrier\")\n",
    "plt.xlabel(\"Number of Flights\")\n",
    "plt.ylabel(\"Number of Delays\")\n",
    "plt.grid(True)\n",
    "plt.tight_layout()\n",
    "plt.show()\n"
   ]
  },
  {
   "cell_type": "markdown",
   "metadata": {},
   "source": [
    "## How do the number of flights and delays differ across different airports?\n"
   ]
  },
  {
   "cell_type": "code",
   "execution_count": null,
   "metadata": {},
   "outputs": [],
   "source": [
    "\n",
    "# Group the data by the \"airport\" column and calculate total flights and delays for each airport\n",
    "airport_grouped = df.groupby(\"Airport\")[[\"Arr_flights\", \"Arr_del15\"]].sum()\n",
    "\n",
    "# Print the summary statistics for number of flights and delays\n",
    "print(\"Summary statistics for number of flights and delays across different airports:\")\n",
    "print(airport_grouped.describe())\n",
    "\n",
    "# Visualize the distribution of flights and delays across different airports (optional)\n",
    "plt.figure(figsize=(12, 6))\n",
    "\n",
    "# Subplot 1: Distribution of flights\n",
    "plt.subplot(1, 2, 1)\n",
    "airport_grouped[\"Arr_flights\"].plot(kind='hist', bins=20, color='skyblue')\n",
    "plt.title(\"Distribution of Flights Across Different Airports\")\n",
    "plt.xlabel(\"Number of Flights\")\n",
    "plt.ylabel(\"Frequency\")\n",
    "\n",
    "# Subplot 2: Distribution of delays\n",
    "plt.subplot(1, 2, 2)\n",
    "airport_grouped[\"Arr_del15\"].plot(kind='hist', bins=20, color='orange')\n",
    "plt.title(\"Distribution of Delays Across Different Airports\")\n",
    "plt.xlabel(\"Number of Delays\")\n",
    "plt.ylabel(\"Frequency\")\n",
    "\n",
    "plt.tight_layout()\n",
    "plt.show()\n"
   ]
  },
  {
   "cell_type": "markdown",
   "metadata": {},
   "source": [
    "## Which airports experience the highest number of cancellations and diversions?\n"
   ]
  },
  {
   "cell_type": "code",
   "execution_count": null,
   "metadata": {},
   "outputs": [],
   "source": [
    "# Group the data by the \"airport\" column and calculate total cancellations and diversions for each airport\n",
    "airport_grouped = df.groupby(\"Airport\")[[\"Arr_cancelled\", \"Arr_diverted\"]].sum()\n",
    "\n",
    "# Find the airports with the highest number of cancellations and diversions\n",
    "top_cancellation_airport = airport_grouped[\"Arr_cancelled\"].idxmax()\n",
    "top_cancellation_count = airport_grouped[\"Arr_cancelled\"].max()\n",
    "top_diversion_airport = airport_grouped[\"Arr_diverted\"].idxmax()\n",
    "top_diversion_count = airport_grouped[\"Arr_diverted\"].max()\n",
    "\n",
    "# Print the airports with the highest number of cancellations and diversions\n",
    "print(f\"The airport with the highest number of cancellations is {top_cancellation_airport} with {top_cancellation_count} cancellations.\")\n",
    "print(f\"The airport with the highest number of diversions is {top_diversion_airport} with {top_diversion_count} diversions.\")\n",
    "\n",
    "# Visualize the distribution of cancellations and diversions across different airports (optional)\n",
    "plt.figure(figsize=(12, 6))\n",
    "\n",
    "# Subplot 1: Distribution of cancellations\n",
    "plt.subplot(1, 2, 1)\n",
    "airport_grouped[\"Arr_cancelled\"].plot(kind='bar', color='skyblue')\n",
    "plt.title(\"Total Cancellations Across Different Airports\")\n",
    "plt.xlabel(\"Airport\")\n",
    "plt.ylabel(\"Number of Cancellations\")\n",
    "plt.xticks(rotation=45)\n",
    "\n",
    "# Subplot 2: Distribution of diversions\n",
    "plt.subplot(1, 2, 2)\n",
    "airport_grouped[\"Arr_diverted\"].plot(kind='bar', color='orange')\n",
    "plt.title(\"Total Diversions Across Different Airports\")\n",
    "plt.xlabel(\"Airport\")\n",
    "plt.ylabel(\"Number of Diversions\")\n",
    "plt.xticks(rotation=45)\n",
    "\n",
    "plt.tight_layout()\n",
    "plt.show()\n"
   ]
  },
  {
   "cell_type": "markdown",
   "metadata": {},
   "source": [
    "## What is the overall trend in the number of flights over the years?"
   ]
  },
  {
   "cell_type": "code",
   "execution_count": null,
   "metadata": {},
   "outputs": [],
   "source": [
    "# Group the data by the \"year\" column and calculate total flights for each year\n",
    "yearly_flights = df.groupby(\"Year\")[\"Arr_flights\"].sum()\n",
    "\n",
    "# Print the overall trend in the number of flights over the years\n",
    "print(\"Overall trend in the number of flights over the years:\")\n",
    "print(yearly_flights)\n",
    "\n",
    "# Visualize the trend in the number of flights over the years (optional)\n",
    "plt.figure(figsize=(8, 4))\n",
    "yearly_flights.plot(kind='line', marker='o', color='skyblue')\n",
    "plt.title(\"Trend in the Number of Flights Over the Years\")\n",
    "plt.xlabel(\"Year\")\n",
    "plt.ylabel(\"Total Number of Flights\")\n",
    "plt.grid(True)\n",
    "plt.tight_layout()\n",
    "plt.show()\n"
   ]
  },
  {
   "cell_type": "markdown",
   "metadata": {},
   "source": [
    "## Are certain months associated with higher cancellation rates?"
   ]
  },
  {
   "cell_type": "code",
   "execution_count": null,
   "metadata": {},
   "outputs": [],
   "source": [
    "# Group the data by the \"month\" column and calculate total cancellations for each month\n",
    "monthly_cancellations = df.groupby(\"Month\")[\"Arr_cancelled\"].sum()\n",
    "\n",
    "# Print the total cancellations for each month\n",
    "print(\"Total cancellations for each month:\")\n",
    "print(monthly_cancellations)\n",
    "\n",
    "# Visualize the cancellation rates across different months (optional)\n",
    "plt.figure(figsize=(8, 4))\n",
    "monthly_cancellations.plot(kind='bar', color='skyblue')\n",
    "plt.title(\"Total Cancellations Across Different Months\")\n",
    "plt.xlabel(\"Month\")\n",
    "plt.ylabel(\"Total Cancellations\")\n",
    "plt.xticks(rotation=0)\n",
    "plt.grid(axis='y')\n",
    "plt.tight_layout()\n",
    "plt.show()\n"
   ]
  },
  {
   "cell_type": "markdown",
   "metadata": {},
   "source": [
    "## How does the number of flights relate to the number of delays caused by carrier issues?\n"
   ]
  },
  {
   "cell_type": "code",
   "execution_count": null,
   "metadata": {},
   "outputs": [],
   "source": [
    "# Group the data by the \"carrier\" column and calculate total flights and carrier-related delays for each carrier\n",
    "carrier_grouped = df.groupby(\"Carrier\")[[\"Arr_flights\", \"Carrier_ct\"]].sum()\n",
    "\n",
    "# Calculate the correlation coefficient between the number of flights and carrier-related delays\n",
    "correlation_coefficient = carrier_grouped[\"Arr_flights\"].corr(carrier_grouped[\"Carrier_ct\"])\n",
    "\n",
    "# Print the correlation coefficient\n",
    "print(\"Correlation coefficient between number of flights and carrier-related delays:\")\n",
    "print(correlation_coefficient)\n",
    "\n",
    "# Visualize the relationship between number of flights and carrier-related delays (optional)\n",
    "plt.figure(figsize=(8, 4))\n",
    "plt.scatter(carrier_grouped[\"Arr_flights\"], carrier_grouped[\"Carrier_ct\"], color='skyblue')\n",
    "plt.title(\"Number of Flights vs. Carrier-Related Delays\")\n",
    "plt.xlabel(\"Number of Flights\")\n",
    "plt.ylabel(\"Number of Carrier-Related Delays\")\n",
    "plt.grid(True)\n",
    "plt.tight_layout()\n",
    "plt.show()\n"
   ]
  },
  {
   "cell_type": "markdown",
   "metadata": {},
   "source": [
    "## Are there specific carriers known for delays caused by late aircraft arrivals?\n"
   ]
  },
  {
   "cell_type": "code",
   "execution_count": null,
   "metadata": {},
   "outputs": [],
   "source": [
    "# Group the data by the \"carrier\" column and calculate total delays caused by late aircraft arrivals for each carrier\n",
    "carrier_delay_grouped = df.groupby(\"Carrier\")[\"Late_aircraft_ct\"].sum()\n",
    "\n",
    "# Print the total delays caused by late aircraft arrivals for each carrier\n",
    "print(\"Total delays caused by late aircraft arrivals for each carrier:\")\n",
    "print(carrier_delay_grouped)\n",
    "\n",
    "# Visualize the distribution of delays caused by late aircraft arrivals across different carriers (optional)\n",
    "plt.figure(figsize=(12, 6))\n",
    "carrier_delay_grouped.plot(kind='bar', color='skyblue')\n",
    "plt.title(\"Total Delays Caused by Late Aircraft Arrivals Across Different Carriers\")\n",
    "plt.xlabel(\"Carrier\")\n",
    "plt.ylabel(\"Total Delays Caused by Late Aircraft Arrivals\")\n",
    "plt.xticks(rotation=45)\n",
    "plt.grid(axis='y')\n",
    "plt.tight_layout()\n",
    "plt.show()\n"
   ]
  },
  {
   "cell_type": "markdown",
   "metadata": {},
   "source": [
    "## How does the distribution of delays vary between different carriers?\n"
   ]
  },
  {
   "cell_type": "code",
   "execution_count": null,
   "metadata": {},
   "outputs": [],
   "source": [
    "# Group the data by the \"carrier\" column and calculate summary statistics for delays\n",
    "carrier_delay_summary = df.groupby(\"Carrier\")[\"Arr_delay\"].describe()\n",
    "\n",
    "# Print summary statistics for delays for each carrier\n",
    "print(\"Summary statistics for delays for each carrier:\")\n",
    "print(carrier_delay_summary)\n",
    "\n",
    "# Visualize the distribution of delays for each carrier using box plots\n",
    "plt.figure(figsize=(12, 6))\n",
    "df.boxplot(column=\"Arr_delay\", by=\"Carrier\", grid=False, rot=45)\n",
    "plt.title(\"Distribution of Delays Across Different Carriers\")\n",
    "plt.xlabel(\"Carrier\")\n",
    "plt.ylabel(\"Arrival Delay (minutes)\")\n",
    "plt.show()\n"
   ]
  },
  {
   "cell_type": "markdown",
   "metadata": {},
   "source": [
    "## What is the average delay time for flights that are canceled or diverted?\n"
   ]
  },
  {
   "cell_type": "code",
   "execution_count": null,
   "metadata": {},
   "outputs": [],
   "source": [
    "\n",
    "# Filter the DataFrame to include only flights that are canceled or diverted\n",
    "canceled_or_diverted_flights = df[(df['Arr_cancelled'] == 1) | (df['Arr_diverted'] == 1)]\n",
    "\n",
    "# Calculate the average delay time for the filtered flights\n",
    "average_delay_time = canceled_or_diverted_flights['Arr_delay'].mean()\n",
    "\n",
    "# Print the average delay time for flights that are canceled or diverted\n",
    "print(f\"The average delay time for flights that are canceled or diverted is: {average_delay_time:.2f} minutes\")\n"
   ]
  },
  {
   "cell_type": "markdown",
   "metadata": {},
   "source": [
    "## How do the types of delays (carrier, weather, NAS, etc.) contribute to the overall delay time?\n"
   ]
  },
  {
   "cell_type": "code",
   "execution_count": null,
   "metadata": {},
   "outputs": [],
   "source": [
    "\n",
    "# Calculate the total delay time for each delay type (carrier, weather, NAS, etc.)\n",
    "total_carrier_delay_time = df[\"Carrier_delay\"].sum()\n",
    "total_weather_delay_time = df[\"Weather_delay\"].sum()\n",
    "total_nas_delay_time = df[\"Nas_delay\"].sum()\n",
    "total_security_delay_time = df[\"Security_delay\"].sum()\n",
    "total_late_aircraft_delay_time = df[\"Late_aircraft_delay\"].sum()\n",
    "\n",
    "# Calculate the total delay time\n",
    "total_delay_time = total_carrier_delay_time + total_weather_delay_time + total_nas_delay_time + total_security_delay_time + total_late_aircraft_delay_time\n",
    "\n",
    "# Calculate the proportion of delay time contributed by each delay type\n",
    "proportion_carrier_delay = total_carrier_delay_time / total_delay_time\n",
    "proportion_weather_delay = total_weather_delay_time / total_delay_time\n",
    "proportion_nas_delay = total_nas_delay_time / total_delay_time\n",
    "proportion_security_delay = total_security_delay_time / total_delay_time\n",
    "proportion_late_aircraft_delay = total_late_aircraft_delay_time / total_delay_time\n",
    "\n",
    "# Print the proportions of delay time contributed by each delay type\n",
    "print(\"Proportion of delay time contributed by each delay type:\")\n",
    "print(f\"Carrier delay: {proportion_carrier_delay:.2%}\")\n",
    "print(f\"Weather delay: {proportion_weather_delay:.2%}\")\n",
    "print(f\"NAS delay: {proportion_nas_delay:.2%}\")\n",
    "print(f\"Security delay: {proportion_security_delay:.2%}\")\n",
    "print(f\"Late aircraft delay: {proportion_late_aircraft_delay:.2%}\")\n",
    "\n",
    "# Visualize the contributions of different delay types to the overall delay time (optional)\n",
    "labels = ['Carrier Delay', 'Weather Delay', 'NAS Delay', 'Security Delay', 'Late Aircraft Delay']\n",
    "sizes = [proportion_carrier_delay, proportion_weather_delay, proportion_nas_delay, proportion_security_delay, proportion_late_aircraft_delay]\n",
    "colors = ['lightblue', 'lightgreen', 'lightcoral', 'lightskyblue', 'lightpink']\n",
    "explode = (0.1, 0, 0, 0, 0)  # explode the largest slice (Late Aircraft)\n",
    "\n",
    "plt.figure(figsize=(8, 6))\n",
    "plt.pie(sizes, explode=explode, labels=labels, colors=colors, autopct='%1.1f%%', shadow=True, startangle=140)\n",
    "plt.axis('equal')\n",
    "plt.title(\"Contributions of Different Delay Types to Overall Delay Time\")\n",
    "plt.show()\n"
   ]
  }
 ],
 "metadata": {
  "kernelspec": {
   "display_name": "base",
   "language": "python",
   "name": "python3"
  },
  "language_info": {
   "codemirror_mode": {
    "name": "ipython",
    "version": 3
   },
   "file_extension": ".py",
   "mimetype": "text/x-python",
   "name": "python",
   "nbconvert_exporter": "python",
   "pygments_lexer": "ipython3",
   "version": "3.10.9"
  }
 },
 "nbformat": 4,
 "nbformat_minor": 2
}
